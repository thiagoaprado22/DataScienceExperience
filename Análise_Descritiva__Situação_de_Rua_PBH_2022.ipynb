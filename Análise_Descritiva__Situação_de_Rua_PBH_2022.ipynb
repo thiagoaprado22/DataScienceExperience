{
  "nbformat": 4,
  "nbformat_minor": 0,
  "metadata": {
    "colab": {
      "provenance": [],
      "collapsed_sections": [],
      "authorship_tag": "ABX9TyOs4mWyffi7D9956APZqRJE",
      "include_colab_link": true
    },
    "kernelspec": {
      "name": "python3",
      "display_name": "Python 3"
    },
    "language_info": {
      "name": "python"
    }
  },
  "cells": [
    {
      "cell_type": "markdown",
      "metadata": {
        "id": "view-in-github",
        "colab_type": "text"
      },
      "source": [
        "<a href=\"https://colab.research.google.com/github/thiagoaprado22/Social_Data_Science/blob/main/An%C3%A1lise_Descritiva__Situa%C3%A7%C3%A3o_de_Rua_PBH_2022.ipynb\" target=\"_parent\"><img src=\"https://colab.research.google.com/assets/colab-badge.svg\" alt=\"Open In Colab\"/></a>"
      ]
    },
    {
      "cell_type": "markdown",
      "source": [
        "***\n",
        "# <font color=red size=5>**ANÁLISE DESCRITIVA DOS DADOS DA POPULAÇÃO EM SITUAÇÃO DE RUA EM BELO HORIONTE EM 2022 CADASTRADAS NO CADUNICO DA PBH**</font>\n",
        "***\n",
        "\n",
        "\n"
      ],
      "metadata": {
        "id": "8lI8M32FUKdC"
      }
    },
    {
      "cell_type": "markdown",
      "source": [
        "[![author](https://img.shields.io/badge/author-ThiagoPrado-blue.svg)](https://www.linkedin.com/in/thiago-de-almeida-prado-2a53601b9)\n",
        "[![stability-experimental](https://img.shields.io/badge/stability-experimental-orange.svg)](https://github.com/mkenney/software-guides/blob/master/STABILITY-BADGES.md#experimental) \n",
        "[![contributions welcome](https://img.shields.io/badge/contributions-welcome-brightgreen.svg?style=flat)](https://github.com/thiagoaprado22)"
      ],
      "metadata": {
        "id": "ITpOeSmCU3Mw"
      }
    },
    {
      "cell_type": "markdown",
      "source": [
        "### <font color=black>1 CONHECENDO OS DADOS</font>\n",
        "***\n"
      ],
      "metadata": {
        "id": "8UqK9fYbUMbJ"
      }
    },
    {
      "cell_type": "markdown",
      "source": [
        "#### <font color=black>1.1) Dataset do Projeto</font>\n",
        "***"
      ],
      "metadata": {
        "id": "rJYVVHs3WsYg"
      }
    },
    {
      "cell_type": "markdown",
      "source": [
        "**População de Rua no município de Belo Horizonte**, no mês de Setembro de 2020 que apresenta um grupo populacional heterogêneo, composto por pessoas com diferentes realidades, mas que têm em comum a condição de pobreza absoluta, vínculos interrompidos ou fragilizados e falta de habitação, **cadastrados no sistema do Cadastro Único**, na Cidade de Belo Horizonte."
      ],
      "metadata": {
        "id": "sFwXhO-YW7Mo"
      }
    },
    {
      "cell_type": "markdown",
      "source": [
        "Fonte:  **Prefeitura de Belo Horizonte - Portal de Dados Aberto** disponível em: https://dados.pbh.gov.br/dataset/populacao-de-rua\n",
        "\n",
        "*Dados atualizados pela última vez\t: Setembro/2022*"
      ],
      "metadata": {
        "id": "wBrOH38QVR6o"
      }
    },
    {
      "cell_type": "code",
      "source": [
        "import pandas  as pd\n",
        "url = 'https://ckan.pbh.gov.br/dataset/1f868d62-d7c3-4121-8ffa-9ed66d71d3e2/resource/aa8477c0-81fc-442c-b1bf-25475674adda/download/4-data_set_poprua_cadunico_09-2020.csv'\n",
        "dados_rua = pd.read_csv(url , sep =';')\n",
        "dados_rua.head()"
      ],
      "metadata": {
        "colab": {
          "base_uri": "https://localhost:8080/",
          "height": 600
        },
        "id": "cyI6zw28V5aQ",
        "outputId": "bb0f7649-0318-4c19-ad54-d11752e22135"
      },
      "execution_count": 102,
      "outputs": [
        {
          "output_type": "execute_result",
          "data": {
            "text/plain": [
              "        TEMPO_VIVE_NA_RUA CONTATO_PARENTE_FORA_RUAS DATA_NASCIMENTO  IDADE  \\\n",
              "0    Entre um e dois anos                  Todo mes      07/06/1958     62   \n",
              "1          Ate seis meses               Quase nunca      04/06/1986     34   \n",
              "2  Entre cinco e dez anos                     Nunca      03/10/1963     56   \n",
              "3          Ate seis meses                  Todo dia      03/04/1958     62   \n",
              "4  Entre cinco e dez anos                  Todo ano      11/08/1960     60   \n",
              "\n",
              "        SEXO BOLSA_FAMILIA POP_RUA          GRAU_INSTRUCAO COR_RACA  \\\n",
              "0   FEMININO           SIM     SIM  Fundamental incompleto    Preta   \n",
              "1  MASCULINO           NAO     SIM        Medio incompleto    Parda   \n",
              "2   FEMININO           SIM     SIM  Fundamental incompleto    Parda   \n",
              "3   FEMININO           NAO     SIM  Fundamental incompleto    Parda   \n",
              "4  MASCULINO           SIM     SIM  Fundamental incompleto    Parda   \n",
              "\n",
              "  Faixa da renda familiar per capita  VAL_REMUNERACAO_MES_PASSADO  \\\n",
              "0                        Ate R$89.00                         60.0   \n",
              "1        Acima de 0.5 Salario Minimo                          0.0   \n",
              "2                        Ate R$89.00                         50.0   \n",
              "3        Acima de 0.5 Salario Minimo                          0.0   \n",
              "4                        Ate R$89.00                          0.0   \n",
              "\n",
              "                         CRAS    REGIONAL FAIXA_DESATUALICACAO_CADASTRAL  \\\n",
              "0  ENDERECO FORA DE AREA CRAS  CENTRO SUL                  13 a 18 Meses   \n",
              "1  ENDERECO FORA DE AREA CRAS    NORDESTE                   ate 12 Meses   \n",
              "2  ENDERECO FORA DE AREA CRAS       OESTE                  37 a 48 Meses   \n",
              "3  ENDERECO FORA DE AREA CRAS  CENTRO SUL                  13 a 18 Meses   \n",
              "4  ENDERECO FORA DE AREA CRAS  CENTRO SUL                   ate 12 Meses   \n",
              "\n",
              "  MES_ANO_REFERENCIA  \n",
              "0         01/09/2020  \n",
              "1         01/09/2020  \n",
              "2         01/09/2020  \n",
              "3         01/09/2020  \n",
              "4         01/09/2020  "
            ],
            "text/html": [
              "\n",
              "  <div id=\"df-06930c55-bac8-4671-a480-382b5bc2e0f3\">\n",
              "    <div class=\"colab-df-container\">\n",
              "      <div>\n",
              "<style scoped>\n",
              "    .dataframe tbody tr th:only-of-type {\n",
              "        vertical-align: middle;\n",
              "    }\n",
              "\n",
              "    .dataframe tbody tr th {\n",
              "        vertical-align: top;\n",
              "    }\n",
              "\n",
              "    .dataframe thead th {\n",
              "        text-align: right;\n",
              "    }\n",
              "</style>\n",
              "<table border=\"1\" class=\"dataframe\">\n",
              "  <thead>\n",
              "    <tr style=\"text-align: right;\">\n",
              "      <th></th>\n",
              "      <th>TEMPO_VIVE_NA_RUA</th>\n",
              "      <th>CONTATO_PARENTE_FORA_RUAS</th>\n",
              "      <th>DATA_NASCIMENTO</th>\n",
              "      <th>IDADE</th>\n",
              "      <th>SEXO</th>\n",
              "      <th>BOLSA_FAMILIA</th>\n",
              "      <th>POP_RUA</th>\n",
              "      <th>GRAU_INSTRUCAO</th>\n",
              "      <th>COR_RACA</th>\n",
              "      <th>Faixa da renda familiar per capita</th>\n",
              "      <th>VAL_REMUNERACAO_MES_PASSADO</th>\n",
              "      <th>CRAS</th>\n",
              "      <th>REGIONAL</th>\n",
              "      <th>FAIXA_DESATUALICACAO_CADASTRAL</th>\n",
              "      <th>MES_ANO_REFERENCIA</th>\n",
              "    </tr>\n",
              "  </thead>\n",
              "  <tbody>\n",
              "    <tr>\n",
              "      <th>0</th>\n",
              "      <td>Entre um e dois anos</td>\n",
              "      <td>Todo mes</td>\n",
              "      <td>07/06/1958</td>\n",
              "      <td>62</td>\n",
              "      <td>FEMININO</td>\n",
              "      <td>SIM</td>\n",
              "      <td>SIM</td>\n",
              "      <td>Fundamental incompleto</td>\n",
              "      <td>Preta</td>\n",
              "      <td>Ate R$89.00</td>\n",
              "      <td>60.0</td>\n",
              "      <td>ENDERECO FORA DE AREA CRAS</td>\n",
              "      <td>CENTRO SUL</td>\n",
              "      <td>13 a 18 Meses</td>\n",
              "      <td>01/09/2020</td>\n",
              "    </tr>\n",
              "    <tr>\n",
              "      <th>1</th>\n",
              "      <td>Ate seis meses</td>\n",
              "      <td>Quase nunca</td>\n",
              "      <td>04/06/1986</td>\n",
              "      <td>34</td>\n",
              "      <td>MASCULINO</td>\n",
              "      <td>NAO</td>\n",
              "      <td>SIM</td>\n",
              "      <td>Medio incompleto</td>\n",
              "      <td>Parda</td>\n",
              "      <td>Acima de 0.5 Salario Minimo</td>\n",
              "      <td>0.0</td>\n",
              "      <td>ENDERECO FORA DE AREA CRAS</td>\n",
              "      <td>NORDESTE</td>\n",
              "      <td>ate 12 Meses</td>\n",
              "      <td>01/09/2020</td>\n",
              "    </tr>\n",
              "    <tr>\n",
              "      <th>2</th>\n",
              "      <td>Entre cinco e dez anos</td>\n",
              "      <td>Nunca</td>\n",
              "      <td>03/10/1963</td>\n",
              "      <td>56</td>\n",
              "      <td>FEMININO</td>\n",
              "      <td>SIM</td>\n",
              "      <td>SIM</td>\n",
              "      <td>Fundamental incompleto</td>\n",
              "      <td>Parda</td>\n",
              "      <td>Ate R$89.00</td>\n",
              "      <td>50.0</td>\n",
              "      <td>ENDERECO FORA DE AREA CRAS</td>\n",
              "      <td>OESTE</td>\n",
              "      <td>37 a 48 Meses</td>\n",
              "      <td>01/09/2020</td>\n",
              "    </tr>\n",
              "    <tr>\n",
              "      <th>3</th>\n",
              "      <td>Ate seis meses</td>\n",
              "      <td>Todo dia</td>\n",
              "      <td>03/04/1958</td>\n",
              "      <td>62</td>\n",
              "      <td>FEMININO</td>\n",
              "      <td>NAO</td>\n",
              "      <td>SIM</td>\n",
              "      <td>Fundamental incompleto</td>\n",
              "      <td>Parda</td>\n",
              "      <td>Acima de 0.5 Salario Minimo</td>\n",
              "      <td>0.0</td>\n",
              "      <td>ENDERECO FORA DE AREA CRAS</td>\n",
              "      <td>CENTRO SUL</td>\n",
              "      <td>13 a 18 Meses</td>\n",
              "      <td>01/09/2020</td>\n",
              "    </tr>\n",
              "    <tr>\n",
              "      <th>4</th>\n",
              "      <td>Entre cinco e dez anos</td>\n",
              "      <td>Todo ano</td>\n",
              "      <td>11/08/1960</td>\n",
              "      <td>60</td>\n",
              "      <td>MASCULINO</td>\n",
              "      <td>SIM</td>\n",
              "      <td>SIM</td>\n",
              "      <td>Fundamental incompleto</td>\n",
              "      <td>Parda</td>\n",
              "      <td>Ate R$89.00</td>\n",
              "      <td>0.0</td>\n",
              "      <td>ENDERECO FORA DE AREA CRAS</td>\n",
              "      <td>CENTRO SUL</td>\n",
              "      <td>ate 12 Meses</td>\n",
              "      <td>01/09/2020</td>\n",
              "    </tr>\n",
              "  </tbody>\n",
              "</table>\n",
              "</div>\n",
              "      <button class=\"colab-df-convert\" onclick=\"convertToInteractive('df-06930c55-bac8-4671-a480-382b5bc2e0f3')\"\n",
              "              title=\"Convert this dataframe to an interactive table.\"\n",
              "              style=\"display:none;\">\n",
              "        \n",
              "  <svg xmlns=\"http://www.w3.org/2000/svg\" height=\"24px\"viewBox=\"0 0 24 24\"\n",
              "       width=\"24px\">\n",
              "    <path d=\"M0 0h24v24H0V0z\" fill=\"none\"/>\n",
              "    <path d=\"M18.56 5.44l.94 2.06.94-2.06 2.06-.94-2.06-.94-.94-2.06-.94 2.06-2.06.94zm-11 1L8.5 8.5l.94-2.06 2.06-.94-2.06-.94L8.5 2.5l-.94 2.06-2.06.94zm10 10l.94 2.06.94-2.06 2.06-.94-2.06-.94-.94-2.06-.94 2.06-2.06.94z\"/><path d=\"M17.41 7.96l-1.37-1.37c-.4-.4-.92-.59-1.43-.59-.52 0-1.04.2-1.43.59L10.3 9.45l-7.72 7.72c-.78.78-.78 2.05 0 2.83L4 21.41c.39.39.9.59 1.41.59.51 0 1.02-.2 1.41-.59l7.78-7.78 2.81-2.81c.8-.78.8-2.07 0-2.86zM5.41 20L4 18.59l7.72-7.72 1.47 1.35L5.41 20z\"/>\n",
              "  </svg>\n",
              "      </button>\n",
              "      \n",
              "  <style>\n",
              "    .colab-df-container {\n",
              "      display:flex;\n",
              "      flex-wrap:wrap;\n",
              "      gap: 12px;\n",
              "    }\n",
              "\n",
              "    .colab-df-convert {\n",
              "      background-color: #E8F0FE;\n",
              "      border: none;\n",
              "      border-radius: 50%;\n",
              "      cursor: pointer;\n",
              "      display: none;\n",
              "      fill: #1967D2;\n",
              "      height: 32px;\n",
              "      padding: 0 0 0 0;\n",
              "      width: 32px;\n",
              "    }\n",
              "\n",
              "    .colab-df-convert:hover {\n",
              "      background-color: #E2EBFA;\n",
              "      box-shadow: 0px 1px 2px rgba(60, 64, 67, 0.3), 0px 1px 3px 1px rgba(60, 64, 67, 0.15);\n",
              "      fill: #174EA6;\n",
              "    }\n",
              "\n",
              "    [theme=dark] .colab-df-convert {\n",
              "      background-color: #3B4455;\n",
              "      fill: #D2E3FC;\n",
              "    }\n",
              "\n",
              "    [theme=dark] .colab-df-convert:hover {\n",
              "      background-color: #434B5C;\n",
              "      box-shadow: 0px 1px 3px 1px rgba(0, 0, 0, 0.15);\n",
              "      filter: drop-shadow(0px 1px 2px rgba(0, 0, 0, 0.3));\n",
              "      fill: #FFFFFF;\n",
              "    }\n",
              "  </style>\n",
              "\n",
              "      <script>\n",
              "        const buttonEl =\n",
              "          document.querySelector('#df-06930c55-bac8-4671-a480-382b5bc2e0f3 button.colab-df-convert');\n",
              "        buttonEl.style.display =\n",
              "          google.colab.kernel.accessAllowed ? 'block' : 'none';\n",
              "\n",
              "        async function convertToInteractive(key) {\n",
              "          const element = document.querySelector('#df-06930c55-bac8-4671-a480-382b5bc2e0f3');\n",
              "          const dataTable =\n",
              "            await google.colab.kernel.invokeFunction('convertToInteractive',\n",
              "                                                     [key], {});\n",
              "          if (!dataTable) return;\n",
              "\n",
              "          const docLinkHtml = 'Like what you see? Visit the ' +\n",
              "            '<a target=\"_blank\" href=https://colab.research.google.com/notebooks/data_table.ipynb>data table notebook</a>'\n",
              "            + ' to learn more about interactive tables.';\n",
              "          element.innerHTML = '';\n",
              "          dataTable['output_type'] = 'display_data';\n",
              "          await google.colab.output.renderOutput(dataTable, element);\n",
              "          const docLink = document.createElement('div');\n",
              "          docLink.innerHTML = docLinkHtml;\n",
              "          element.appendChild(docLink);\n",
              "        }\n",
              "      </script>\n",
              "    </div>\n",
              "  </div>\n",
              "  "
            ]
          },
          "metadata": {},
          "execution_count": 102
        }
      ]
    },
    {
      "cell_type": "markdown",
      "source": [
        "**Distribuição de Gênero**"
      ],
      "metadata": {
        "id": "JwJMYs_AYamf"
      }
    },
    {
      "cell_type": "code",
      "source": [
        "dados_rua['SEXO'].value_counts()\n"
      ],
      "metadata": {
        "colab": {
          "base_uri": "https://localhost:8080/"
        },
        "id": "uTuNf80dWWbH",
        "outputId": "1a43f368-ff16-4e35-dd0e-aef7acea4531"
      },
      "execution_count": 103,
      "outputs": [
        {
          "output_type": "execute_result",
          "data": {
            "text/plain": [
              "MASCULINO    7976\n",
              "FEMININO     1000\n",
              "Name: SEXO, dtype: int64"
            ]
          },
          "metadata": {},
          "execution_count": 103
        }
      ]
    },
    {
      "cell_type": "code",
      "source": [
        "frequencia = dados_rua['SEXO'].value_counts()"
      ],
      "metadata": {
        "id": "VUJD1nXhanqT"
      },
      "execution_count": 104,
      "outputs": []
    },
    {
      "cell_type": "code",
      "source": [
        "dados_rua['SEXO'].value_counts(normalize = True)"
      ],
      "metadata": {
        "colab": {
          "base_uri": "https://localhost:8080/"
        },
        "id": "3AFio9u6YNJn",
        "outputId": "2ccf4137-49f0-4c15-9c4e-73d4bffdbd2c"
      },
      "execution_count": 105,
      "outputs": [
        {
          "output_type": "execute_result",
          "data": {
            "text/plain": [
              "MASCULINO    0.888592\n",
              "FEMININO     0.111408\n",
              "Name: SEXO, dtype: float64"
            ]
          },
          "metadata": {},
          "execution_count": 105
        }
      ]
    },
    {
      "cell_type": "code",
      "source": [
        "dados_rua['SEXO'].value_counts(normalize = True)*100"
      ],
      "metadata": {
        "colab": {
          "base_uri": "https://localhost:8080/"
        },
        "id": "FveFwHaMY9CV",
        "outputId": "f9de69d8-7df6-427d-aa09-965297bb6886"
      },
      "execution_count": 106,
      "outputs": [
        {
          "output_type": "execute_result",
          "data": {
            "text/plain": [
              "MASCULINO    88.85918\n",
              "FEMININO     11.14082\n",
              "Name: SEXO, dtype: float64"
            ]
          },
          "metadata": {},
          "execution_count": 106
        }
      ]
    },
    {
      "cell_type": "code",
      "source": [
        "percentual = dados_rua['SEXO'].value_counts(normalize = True)*100"
      ],
      "metadata": {
        "id": "ynUQSGdBa1Ss"
      },
      "execution_count": 107,
      "outputs": []
    },
    {
      "cell_type": "code",
      "source": [
        "dados_rua['SEXO'].value_counts().plot(kind='pie', autopct='%1.2f%%')\n",
        "plt.title('Distribuição percentual de Gênero')"
      ],
      "metadata": {
        "colab": {
          "base_uri": "https://localhost:8080/",
          "height": 281
        },
        "id": "SZ0smKDPfjhZ",
        "outputId": "2681bc53-6b9b-4a64-8262-a766da52448f"
      },
      "execution_count": 108,
      "outputs": [
        {
          "output_type": "execute_result",
          "data": {
            "text/plain": [
              "Text(0.5, 1.0, 'Distribuição percentual de Gênero')"
            ]
          },
          "metadata": {},
          "execution_count": 108
        },
        {
          "output_type": "display_data",
          "data": {
            "text/plain": [
              "<Figure size 432x288 with 1 Axes>"
            ],
            "image/png": "[encoded data removed]"
          },
          "metadata": {}
        }
      ]
    },
    {
      "cell_type": "code",
      "source": [
        "dist_freq = pd.DataFrame({'Frequência': frequencia, 'Porcentagem (%)': percentual})\n",
        "dist_freq\n"
      ],
      "metadata": {
        "colab": {
          "base_uri": "https://localhost:8080/",
          "height": 112
        },
        "id": "DOh5Tnita3tj",
        "outputId": "a7da1295-11e0-448d-f194-0bbb07d40544"
      },
      "execution_count": 109,
      "outputs": [
        {
          "output_type": "execute_result",
          "data": {
            "text/plain": [
              "           Frequência  Porcentagem (%)\n",
              "MASCULINO        7976         88.85918\n",
              "FEMININO         1000         11.14082"
            ],
            "text/html": [
              "\n",
              "  <div id=\"df-86a14d20-6b04-4225-a8bc-86565fb32108\">\n",
              "    <div class=\"colab-df-container\">\n",
              "      <div>\n",
              "<style scoped>\n",
              "    .dataframe tbody tr th:only-of-type {\n",
              "        vertical-align: middle;\n",
              "    }\n",
              "\n",
              "    .dataframe tbody tr th {\n",
              "        vertical-align: top;\n",
              "    }\n",
              "\n",
              "    .dataframe thead th {\n",
              "        text-align: right;\n",
              "    }\n",
              "</style>\n",
              "<table border=\"1\" class=\"dataframe\">\n",
              "  <thead>\n",
              "    <tr style=\"text-align: right;\">\n",
              "      <th></th>\n",
              "      <th>Frequência</th>\n",
              "      <th>Porcentagem (%)</th>\n",
              "    </tr>\n",
              "  </thead>\n",
              "  <tbody>\n",
              "    <tr>\n",
              "      <th>MASCULINO</th>\n",
              "      <td>7976</td>\n",
              "      <td>88.85918</td>\n",
              "    </tr>\n",
              "    <tr>\n",
              "      <th>FEMININO</th>\n",
              "      <td>1000</td>\n",
              "      <td>11.14082</td>\n",
              "    </tr>\n",
              "  </tbody>\n",
              "</table>\n",
              "</div>\n",
              "      <button class=\"colab-df-convert\" onclick=\"convertToInteractive('df-86a14d20-6b04-4225-a8bc-86565fb32108')\"\n",
              "              title=\"Convert this dataframe to an interactive table.\"\n",
              "              style=\"display:none;\">\n",
              "        \n",
              "  <svg xmlns=\"http://www.w3.org/2000/svg\" height=\"24px\"viewBox=\"0 0 24 24\"\n",
              "       width=\"24px\">\n",
              "    <path d=\"M0 0h24v24H0V0z\" fill=\"none\"/>\n",
              "    <path d=\"M18.56 5.44l.94 2.06.94-2.06 2.06-.94-2.06-.94-.94-2.06-.94 2.06-2.06.94zm-11 1L8.5 8.5l.94-2.06 2.06-.94-2.06-.94L8.5 2.5l-.94 2.06-2.06.94zm10 10l.94 2.06.94-2.06 2.06-.94-2.06-.94-.94-2.06-.94 2.06-2.06.94z\"/><path d=\"M17.41 7.96l-1.37-1.37c-.4-.4-.92-.59-1.43-.59-.52 0-1.04.2-1.43.59L10.3 9.45l-7.72 7.72c-.78.78-.78 2.05 0 2.83L4 21.41c.39.39.9.59 1.41.59.51 0 1.02-.2 1.41-.59l7.78-7.78 2.81-2.81c.8-.78.8-2.07 0-2.86zM5.41 20L4 18.59l7.72-7.72 1.47 1.35L5.41 20z\"/>\n",
              "  </svg>\n",
              "      </button>\n",
              "      \n",
              "  <style>\n",
              "    .colab-df-container {\n",
              "      display:flex;\n",
              "      flex-wrap:wrap;\n",
              "      gap: 12px;\n",
              "    }\n",
              "\n",
              "    .colab-df-convert {\n",
              "      background-color: #E8F0FE;\n",
              "      border: none;\n",
              "      border-radius: 50%;\n",
              "      cursor: pointer;\n",
              "      display: none;\n",
              "      fill: #1967D2;\n",
              "      height: 32px;\n",
              "      padding: 0 0 0 0;\n",
              "      width: 32px;\n",
              "    }\n",
              "\n",
              "    .colab-df-convert:hover {\n",
              "      background-color: #E2EBFA;\n",
              "      box-shadow: 0px 1px 2px rgba(60, 64, 67, 0.3), 0px 1px 3px 1px rgba(60, 64, 67, 0.15);\n",
              "      fill: #174EA6;\n",
              "    }\n",
              "\n",
              "    [theme=dark] .colab-df-convert {\n",
              "      background-color: #3B4455;\n",
              "      fill: #D2E3FC;\n",
              "    }\n",
              "\n",
              "    [theme=dark] .colab-df-convert:hover {\n",
              "      background-color: #434B5C;\n",
              "      box-shadow: 0px 1px 3px 1px rgba(0, 0, 0, 0.15);\n",
              "      filter: drop-shadow(0px 1px 2px rgba(0, 0, 0, 0.3));\n",
              "      fill: #FFFFFF;\n",
              "    }\n",
              "  </style>\n",
              "\n",
              "      <script>\n",
              "        const buttonEl =\n",
              "          document.querySelector('#df-86a14d20-6b04-4225-a8bc-86565fb32108 button.colab-df-convert');\n",
              "        buttonEl.style.display =\n",
              "          google.colab.kernel.accessAllowed ? 'block' : 'none';\n",
              "\n",
              "        async function convertToInteractive(key) {\n",
              "          const element = document.querySelector('#df-86a14d20-6b04-4225-a8bc-86565fb32108');\n",
              "          const dataTable =\n",
              "            await google.colab.kernel.invokeFunction('convertToInteractive',\n",
              "                                                     [key], {});\n",
              "          if (!dataTable) return;\n",
              "\n",
              "          const docLinkHtml = 'Like what you see? Visit the ' +\n",
              "            '<a target=\"_blank\" href=https://colab.research.google.com/notebooks/data_table.ipynb>data table notebook</a>'\n",
              "            + ' to learn more about interactive tables.';\n",
              "          element.innerHTML = '';\n",
              "          dataTable['output_type'] = 'display_data';\n",
              "          await google.colab.output.renderOutput(dataTable, element);\n",
              "          const docLink = document.createElement('div');\n",
              "          docLink.innerHTML = docLinkHtml;\n",
              "          element.appendChild(docLink);\n",
              "        }\n",
              "      </script>\n",
              "    </div>\n",
              "  </div>\n",
              "  "
            ]
          },
          "metadata": {},
          "execution_count": 109
        }
      ]
    },
    {
      "cell_type": "markdown",
      "source": [
        "**Distribuição de Idade** "
      ],
      "metadata": {
        "id": "v98uTl3pgsIh"
      }
    },
    {
      "cell_type": "code",
      "source": [
        "dados_rua['IDADE']"
      ],
      "metadata": {
        "colab": {
          "base_uri": "https://localhost:8080/"
        },
        "id": "4XuldM1FgtcZ",
        "outputId": "e58269ac-c9ce-4767-fc01-fd64b74b54a4"
      },
      "execution_count": 110,
      "outputs": [
        {
          "output_type": "execute_result",
          "data": {
            "text/plain": [
              "0       62\n",
              "1       34\n",
              "2       56\n",
              "3       62\n",
              "4       60\n",
              "        ..\n",
              "8971    33\n",
              "8972    47\n",
              "8973    49\n",
              "8974    19\n",
              "8975    19\n",
              "Name: IDADE, Length: 8976, dtype: int64"
            ]
          },
          "metadata": {},
          "execution_count": 110
        }
      ]
    },
    {
      "cell_type": "code",
      "source": [
        "dados_rua['IDADE'].value_counts()"
      ],
      "metadata": {
        "colab": {
          "base_uri": "https://localhost:8080/"
        },
        "id": "Lu86GRWpg52R",
        "outputId": "9eb587e8-8163-427d-8324-4f304757551f"
      },
      "execution_count": 111,
      "outputs": [
        {
          "output_type": "execute_result",
          "data": {
            "text/plain": [
              "39    338\n",
              "37    314\n",
              "40    306\n",
              "38    304\n",
              "42    291\n",
              "     ... \n",
              "76      3\n",
              "13      3\n",
              "79      2\n",
              "16      1\n",
              "12      1\n",
              "Name: IDADE, Length: 79, dtype: int64"
            ]
          },
          "metadata": {},
          "execution_count": 111
        }
      ]
    },
    {
      "cell_type": "code",
      "source": [
        "plt.hist(dados_rua['IDADE'], 8 , color='red', rwidth=0.9, edgecolor='black')\n",
        "plt.xlabel('Idade', fontsize=15)\n",
        "plt.ylabel('Frequência', fontsize=15)\n",
        "plt.tick_params(labelsize=12)\n",
        "plt.title('Idade do Grupo', fontsize=20)\n",
        "plt.show()"
      ],
      "metadata": {
        "colab": {
          "base_uri": "https://localhost:8080/",
          "height": 308
        },
        "id": "DmeiMc3XhU1S",
        "outputId": "a74982dd-2740-4333-cc4a-7e75d64f5b15"
      },
      "execution_count": 112,
      "outputs": [
        {
          "output_type": "display_data",
          "data": {
            "text/plain": [
              "<Figure size 432x288 with 1 Axes>"
            ],
            "image/png": "[encoded data removed]"
          },
          "metadata": {}
        }
      ]
    },
    {
      "cell_type": "code",
      "source": [
        "dados_rua['IDADE'].mean()"
      ],
      "metadata": {
        "colab": {
          "base_uri": "https://localhost:8080/"
        },
        "id": "vL_7zdEIj59Q",
        "outputId": "c1600100-a712-4f04-b30d-a995a92f9d2e"
      },
      "execution_count": 113,
      "outputs": [
        {
          "output_type": "execute_result",
          "data": {
            "text/plain": [
              "41.79823975044563"
            ]
          },
          "metadata": {},
          "execution_count": 113
        }
      ]
    },
    {
      "cell_type": "code",
      "source": [
        "dados_rua['IDADE'].mean().round(0)"
      ],
      "metadata": {
        "colab": {
          "base_uri": "https://localhost:8080/"
        },
        "id": "9fpOeKeDhnnh",
        "outputId": "05ab2a8a-c57c-4ee1-d78b-09c8897c642d"
      },
      "execution_count": 114,
      "outputs": [
        {
          "output_type": "execute_result",
          "data": {
            "text/plain": [
              "42.0"
            ]
          },
          "metadata": {},
          "execution_count": 114
        }
      ]
    },
    {
      "cell_type": "code",
      "source": [
        "print('A idade média da populaçao em situacao de rua é de aproximadamente {} anos '.format(dados_rua['IDADE'].mean().round(0)))"
      ],
      "metadata": {
        "colab": {
          "base_uri": "https://localhost:8080/"
        },
        "id": "dO41z7rPkFGu",
        "outputId": "12770c44-0d5d-40eb-8e2f-017b42f29129"
      },
      "execution_count": 115,
      "outputs": [
        {
          "output_type": "stream",
          "name": "stdout",
          "text": [
            "A idade média da populaçao em situacao de rua é de aproximadamente 42.0 anos \n"
          ]
        }
      ]
    },
    {
      "cell_type": "code",
      "source": [
        "print('A maior idade encontrada na populaçao em situacao de rua é de aproximadamente {} anos '.format(dados_rua['IDADE'].max()))"
      ],
      "metadata": {
        "colab": {
          "base_uri": "https://localhost:8080/"
        },
        "id": "Xj2r_mUvlF13",
        "outputId": "ff2b8fa6-2c38-4fa0-8271-39de06bae32e"
      },
      "execution_count": 116,
      "outputs": [
        {
          "output_type": "stream",
          "name": "stdout",
          "text": [
            "A maior idade encontrada na populaçao em situacao de rua é de aproximadamente 83 anos \n"
          ]
        }
      ]
    },
    {
      "cell_type": "code",
      "source": [
        "print('A menor idade encontrada na populaçao em situacao de rua é de aproximadamente {} anos '.format(dados_rua['IDADE'].min()))"
      ],
      "metadata": {
        "colab": {
          "base_uri": "https://localhost:8080/"
        },
        "id": "NSAjf9LhmePl",
        "outputId": "7d350dfb-b63a-4004-972b-b350062f4170"
      },
      "execution_count": 117,
      "outputs": [
        {
          "output_type": "stream",
          "name": "stdout",
          "text": [
            "A menor idade encontrada na populaçao em situacao de rua é de aproximadamente 1 anos \n"
          ]
        }
      ]
    },
    {
      "cell_type": "code",
      "source": [
        "dados_fem = dados_fem = dados_rua.query('SEXO == \"FEMININO\"')\n",
        "dados_fem.head()"
      ],
      "metadata": {
        "colab": {
          "base_uri": "https://localhost:8080/",
          "height": 600
        },
        "id": "SFi9PX7cpaq6",
        "outputId": "8a668843-5d26-433a-8399-867ff321f6fa"
      },
      "execution_count": 123,
      "outputs": [
        {
          "output_type": "execute_result",
          "data": {
            "text/plain": [
              "        TEMPO_VIVE_NA_RUA CONTATO_PARENTE_FORA_RUAS DATA_NASCIMENTO  IDADE  \\\n",
              "0    Entre um e dois anos                  Todo mes      07/06/1958     62   \n",
              "2  Entre cinco e dez anos                     Nunca      03/10/1963     56   \n",
              "3          Ate seis meses                  Todo dia      03/04/1958     62   \n",
              "6          Ate seis meses                  Todo mes      15/10/1964     55   \n",
              "8          Ate seis meses               Toda semana      17/11/1976     43   \n",
              "\n",
              "       SEXO BOLSA_FAMILIA POP_RUA          GRAU_INSTRUCAO COR_RACA  \\\n",
              "0  FEMININO           SIM     SIM  Fundamental incompleto    Preta   \n",
              "2  FEMININO           SIM     SIM  Fundamental incompleto    Parda   \n",
              "3  FEMININO           NAO     SIM  Fundamental incompleto    Parda   \n",
              "6  FEMININO           SIM     SIM  Fundamental incompleto    Preta   \n",
              "8  FEMININO           SIM     SIM           Sem instrucao    Parda   \n",
              "\n",
              "  Faixa da renda familiar per capita  VAL_REMUNERACAO_MES_PASSADO  \\\n",
              "0                        Ate R$89.00                         60.0   \n",
              "2                        Ate R$89.00                         50.0   \n",
              "3        Acima de 0.5 Salario Minimo                          0.0   \n",
              "6                        Ate R$89.00                          0.0   \n",
              "8                        Ate R$89.00                          0.0   \n",
              "\n",
              "                         CRAS    REGIONAL FAIXA_DESATUALICACAO_CADASTRAL  \\\n",
              "0  ENDERECO FORA DE AREA CRAS  CENTRO SUL                  13 a 18 Meses   \n",
              "2  ENDERECO FORA DE AREA CRAS       OESTE                  37 a 48 Meses   \n",
              "3  ENDERECO FORA DE AREA CRAS  CENTRO SUL                  13 a 18 Meses   \n",
              "6  ENDERECO FORA DE AREA CRAS  CENTRO SUL                  19 a 24 Meses   \n",
              "8  ENDERECO FORA DE AREA CRAS  CENTRO SUL                   ate 12 Meses   \n",
              "\n",
              "  MES_ANO_REFERENCIA  \n",
              "0         01/09/2020  \n",
              "2         01/09/2020  \n",
              "3         01/09/2020  \n",
              "6         01/09/2020  \n",
              "8         01/09/2020  "
            ],
            "text/html": [
              "\n",
              "  <div id=\"df-690ca412-9567-47b5-a994-5fbcc65e16bb\">\n",
              "    <div class=\"colab-df-container\">\n",
              "      <div>\n",
              "<style scoped>\n",
              "    .dataframe tbody tr th:only-of-type {\n",
              "        vertical-align: middle;\n",
              "    }\n",
              "\n",
              "    .dataframe tbody tr th {\n",
              "        vertical-align: top;\n",
              "    }\n",
              "\n",
              "    .dataframe thead th {\n",
              "        text-align: right;\n",
              "    }\n",
              "</style>\n",
              "<table border=\"1\" class=\"dataframe\">\n",
              "  <thead>\n",
              "    <tr style=\"text-align: right;\">\n",
              "      <th></th>\n",
              "      <th>TEMPO_VIVE_NA_RUA</th>\n",
              "      <th>CONTATO_PARENTE_FORA_RUAS</th>\n",
              "      <th>DATA_NASCIMENTO</th>\n",
              "      <th>IDADE</th>\n",
              "      <th>SEXO</th>\n",
              "      <th>BOLSA_FAMILIA</th>\n",
              "      <th>POP_RUA</th>\n",
              "      <th>GRAU_INSTRUCAO</th>\n",
              "      <th>COR_RACA</th>\n",
              "      <th>Faixa da renda familiar per capita</th>\n",
              "      <th>VAL_REMUNERACAO_MES_PASSADO</th>\n",
              "      <th>CRAS</th>\n",
              "      <th>REGIONAL</th>\n",
              "      <th>FAIXA_DESATUALICACAO_CADASTRAL</th>\n",
              "      <th>MES_ANO_REFERENCIA</th>\n",
              "    </tr>\n",
              "  </thead>\n",
              "  <tbody>\n",
              "    <tr>\n",
              "      <th>0</th>\n",
              "      <td>Entre um e dois anos</td>\n",
              "      <td>Todo mes</td>\n",
              "      <td>07/06/1958</td>\n",
              "      <td>62</td>\n",
              "      <td>FEMININO</td>\n",
              "      <td>SIM</td>\n",
              "      <td>SIM</td>\n",
              "      <td>Fundamental incompleto</td>\n",
              "      <td>Preta</td>\n",
              "      <td>Ate R$89.00</td>\n",
              "      <td>60.0</td>\n",
              "      <td>ENDERECO FORA DE AREA CRAS</td>\n",
              "      <td>CENTRO SUL</td>\n",
              "      <td>13 a 18 Meses</td>\n",
              "      <td>01/09/2020</td>\n",
              "    </tr>\n",
              "    <tr>\n",
              "      <th>2</th>\n",
              "      <td>Entre cinco e dez anos</td>\n",
              "      <td>Nunca</td>\n",
              "      <td>03/10/1963</td>\n",
              "      <td>56</td>\n",
              "      <td>FEMININO</td>\n",
              "      <td>SIM</td>\n",
              "      <td>SIM</td>\n",
              "      <td>Fundamental incompleto</td>\n",
              "      <td>Parda</td>\n",
              "      <td>Ate R$89.00</td>\n",
              "      <td>50.0</td>\n",
              "      <td>ENDERECO FORA DE AREA CRAS</td>\n",
              "      <td>OESTE</td>\n",
              "      <td>37 a 48 Meses</td>\n",
              "      <td>01/09/2020</td>\n",
              "    </tr>\n",
              "    <tr>\n",
              "      <th>3</th>\n",
              "      <td>Ate seis meses</td>\n",
              "      <td>Todo dia</td>\n",
              "      <td>03/04/1958</td>\n",
              "      <td>62</td>\n",
              "      <td>FEMININO</td>\n",
              "      <td>NAO</td>\n",
              "      <td>SIM</td>\n",
              "      <td>Fundamental incompleto</td>\n",
              "      <td>Parda</td>\n",
              "      <td>Acima de 0.5 Salario Minimo</td>\n",
              "      <td>0.0</td>\n",
              "      <td>ENDERECO FORA DE AREA CRAS</td>\n",
              "      <td>CENTRO SUL</td>\n",
              "      <td>13 a 18 Meses</td>\n",
              "      <td>01/09/2020</td>\n",
              "    </tr>\n",
              "    <tr>\n",
              "      <th>6</th>\n",
              "      <td>Ate seis meses</td>\n",
              "      <td>Todo mes</td>\n",
              "      <td>15/10/1964</td>\n",
              "      <td>55</td>\n",
              "      <td>FEMININO</td>\n",
              "      <td>SIM</td>\n",
              "      <td>SIM</td>\n",
              "      <td>Fundamental incompleto</td>\n",
              "      <td>Preta</td>\n",
              "      <td>Ate R$89.00</td>\n",
              "      <td>0.0</td>\n",
              "      <td>ENDERECO FORA DE AREA CRAS</td>\n",
              "      <td>CENTRO SUL</td>\n",
              "      <td>19 a 24 Meses</td>\n",
              "      <td>01/09/2020</td>\n",
              "    </tr>\n",
              "    <tr>\n",
              "      <th>8</th>\n",
              "      <td>Ate seis meses</td>\n",
              "      <td>Toda semana</td>\n",
              "      <td>17/11/1976</td>\n",
              "      <td>43</td>\n",
              "      <td>FEMININO</td>\n",
              "      <td>SIM</td>\n",
              "      <td>SIM</td>\n",
              "      <td>Sem instrucao</td>\n",
              "      <td>Parda</td>\n",
              "      <td>Ate R$89.00</td>\n",
              "      <td>0.0</td>\n",
              "      <td>ENDERECO FORA DE AREA CRAS</td>\n",
              "      <td>CENTRO SUL</td>\n",
              "      <td>ate 12 Meses</td>\n",
              "      <td>01/09/2020</td>\n",
              "    </tr>\n",
              "  </tbody>\n",
              "</table>\n",
              "</div>\n",
              "      <button class=\"colab-df-convert\" onclick=\"convertToInteractive('df-690ca412-9567-47b5-a994-5fbcc65e16bb')\"\n",
              "              title=\"Convert this dataframe to an interactive table.\"\n",
              "              style=\"display:none;\">\n",
              "        \n",
              "  <svg xmlns=\"http://www.w3.org/2000/svg\" height=\"24px\"viewBox=\"0 0 24 24\"\n",
              "       width=\"24px\">\n",
              "    <path d=\"M0 0h24v24H0V0z\" fill=\"none\"/>\n",
              "    <path d=\"M18.56 5.44l.94 2.06.94-2.06 2.06-.94-2.06-.94-.94-2.06-.94 2.06-2.06.94zm-11 1L8.5 8.5l.94-2.06 2.06-.94-2.06-.94L8.5 2.5l-.94 2.06-2.06.94zm10 10l.94 2.06.94-2.06 2.06-.94-2.06-.94-.94-2.06-.94 2.06-2.06.94z\"/><path d=\"M17.41 7.96l-1.37-1.37c-.4-.4-.92-.59-1.43-.59-.52 0-1.04.2-1.43.59L10.3 9.45l-7.72 7.72c-.78.78-.78 2.05 0 2.83L4 21.41c.39.39.9.59 1.41.59.51 0 1.02-.2 1.41-.59l7.78-7.78 2.81-2.81c.8-.78.8-2.07 0-2.86zM5.41 20L4 18.59l7.72-7.72 1.47 1.35L5.41 20z\"/>\n",
              "  </svg>\n",
              "      </button>\n",
              "      \n",
              "  <style>\n",
              "    .colab-df-container {\n",
              "      display:flex;\n",
              "      flex-wrap:wrap;\n",
              "      gap: 12px;\n",
              "    }\n",
              "\n",
              "    .colab-df-convert {\n",
              "      background-color: #E8F0FE;\n",
              "      border: none;\n",
              "      border-radius: 50%;\n",
              "      cursor: pointer;\n",
              "      display: none;\n",
              "      fill: #1967D2;\n",
              "      height: 32px;\n",
              "      padding: 0 0 0 0;\n",
              "      width: 32px;\n",
              "    }\n",
              "\n",
              "    .colab-df-convert:hover {\n",
              "      background-color: #E2EBFA;\n",
              "      box-shadow: 0px 1px 2px rgba(60, 64, 67, 0.3), 0px 1px 3px 1px rgba(60, 64, 67, 0.15);\n",
              "      fill: #174EA6;\n",
              "    }\n",
              "\n",
              "    [theme=dark] .colab-df-convert {\n",
              "      background-color: #3B4455;\n",
              "      fill: #D2E3FC;\n",
              "    }\n",
              "\n",
              "    [theme=dark] .colab-df-convert:hover {\n",
              "      background-color: #434B5C;\n",
              "      box-shadow: 0px 1px 3px 1px rgba(0, 0, 0, 0.15);\n",
              "      filter: drop-shadow(0px 1px 2px rgba(0, 0, 0, 0.3));\n",
              "      fill: #FFFFFF;\n",
              "    }\n",
              "  </style>\n",
              "\n",
              "      <script>\n",
              "        const buttonEl =\n",
              "          document.querySelector('#df-690ca412-9567-47b5-a994-5fbcc65e16bb button.colab-df-convert');\n",
              "        buttonEl.style.display =\n",
              "          google.colab.kernel.accessAllowed ? 'block' : 'none';\n",
              "\n",
              "        async function convertToInteractive(key) {\n",
              "          const element = document.querySelector('#df-690ca412-9567-47b5-a994-5fbcc65e16bb');\n",
              "          const dataTable =\n",
              "            await google.colab.kernel.invokeFunction('convertToInteractive',\n",
              "                                                     [key], {});\n",
              "          if (!dataTable) return;\n",
              "\n",
              "          const docLinkHtml = 'Like what you see? Visit the ' +\n",
              "            '<a target=\"_blank\" href=https://colab.research.google.com/notebooks/data_table.ipynb>data table notebook</a>'\n",
              "            + ' to learn more about interactive tables.';\n",
              "          element.innerHTML = '';\n",
              "          dataTable['output_type'] = 'display_data';\n",
              "          await google.colab.output.renderOutput(dataTable, element);\n",
              "          const docLink = document.createElement('div');\n",
              "          docLink.innerHTML = docLinkHtml;\n",
              "          element.appendChild(docLink);\n",
              "        }\n",
              "      </script>\n",
              "    </div>\n",
              "  </div>\n",
              "  "
            ]
          },
          "metadata": {},
          "execution_count": 123
        }
      ]
    },
    {
      "cell_type": "code",
      "source": [
        "dados_masc = dados_masc = dados_rua.query('SEXO == \"MASCULINO\"')"
      ],
      "metadata": {
        "id": "qiDtEVrDqxzy"
      },
      "execution_count": 127,
      "outputs": []
    },
    {
      "cell_type": "code",
      "source": [
        "dados_masc.head()"
      ],
      "metadata": {
        "colab": {
          "base_uri": "https://localhost:8080/",
          "height": 600
        },
        "id": "sjVr82qdq3KK",
        "outputId": "a69b16f3-3df1-4021-edf0-9fec98d9c0bc"
      },
      "execution_count": 128,
      "outputs": [
        {
          "output_type": "execute_result",
          "data": {
            "text/plain": [
              "        TEMPO_VIVE_NA_RUA CONTATO_PARENTE_FORA_RUAS DATA_NASCIMENTO  IDADE  \\\n",
              "1          Ate seis meses               Quase nunca      04/06/1986     34   \n",
              "4  Entre cinco e dez anos                  Todo ano      11/08/1960     60   \n",
              "5  Entre cinco e dez anos                     Nunca      05/02/1965     55   \n",
              "7          Ate seis meses                  Todo dia      10/05/1953     67   \n",
              "9        Mais de dez anos                     Nunca      25/10/1959     60   \n",
              "\n",
              "        SEXO BOLSA_FAMILIA POP_RUA          GRAU_INSTRUCAO COR_RACA  \\\n",
              "1  MASCULINO           NAO     SIM        Medio incompleto    Parda   \n",
              "4  MASCULINO           SIM     SIM  Fundamental incompleto    Parda   \n",
              "5  MASCULINO           SIM     SIM  Fundamental incompleto    Parda   \n",
              "7  MASCULINO           NAO     SIM  Fundamental incompleto    Parda   \n",
              "9  MASCULINO           SIM     SIM           Sem instrucao    Parda   \n",
              "\n",
              "  Faixa da renda familiar per capita  VAL_REMUNERACAO_MES_PASSADO  \\\n",
              "1        Acima de 0.5 Salario Minimo                          0.0   \n",
              "4                        Ate R$89.00                          0.0   \n",
              "5                        Ate R$89.00                          0.0   \n",
              "7                        Ate R$89.00                        260.0   \n",
              "9                        Ate R$89.00                          0.0   \n",
              "\n",
              "                         CRAS    REGIONAL FAIXA_DESATUALICACAO_CADASTRAL  \\\n",
              "1  ENDERECO FORA DE AREA CRAS    NORDESTE                   ate 12 Meses   \n",
              "4  ENDERECO FORA DE AREA CRAS  CENTRO SUL                   ate 12 Meses   \n",
              "5  ENDERECO FORA DE AREA CRAS  CENTRO SUL                   ate 12 Meses   \n",
              "7  ENDERECO FORA DE AREA CRAS  CENTRO SUL                  13 a 18 Meses   \n",
              "9  ENDERECO FORA DE AREA CRAS       LESTE                   ate 12 Meses   \n",
              "\n",
              "  MES_ANO_REFERENCIA  \n",
              "1         01/09/2020  \n",
              "4         01/09/2020  \n",
              "5         01/09/2020  \n",
              "7         01/09/2020  \n",
              "9         01/09/2020  "
            ],
            "text/html": [
              "\n",
              "  <div id=\"df-b918d21e-8746-4688-aa97-168178914682\">\n",
              "    <div class=\"colab-df-container\">\n",
              "      <div>\n",
              "<style scoped>\n",
              "    .dataframe tbody tr th:only-of-type {\n",
              "        vertical-align: middle;\n",
              "    }\n",
              "\n",
              "    .dataframe tbody tr th {\n",
              "        vertical-align: top;\n",
              "    }\n",
              "\n",
              "    .dataframe thead th {\n",
              "        text-align: right;\n",
              "    }\n",
              "</style>\n",
              "<table border=\"1\" class=\"dataframe\">\n",
              "  <thead>\n",
              "    <tr style=\"text-align: right;\">\n",
              "      <th></th>\n",
              "      <th>TEMPO_VIVE_NA_RUA</th>\n",
              "      <th>CONTATO_PARENTE_FORA_RUAS</th>\n",
              "      <th>DATA_NASCIMENTO</th>\n",
              "      <th>IDADE</th>\n",
              "      <th>SEXO</th>\n",
              "      <th>BOLSA_FAMILIA</th>\n",
              "      <th>POP_RUA</th>\n",
              "      <th>GRAU_INSTRUCAO</th>\n",
              "      <th>COR_RACA</th>\n",
              "      <th>Faixa da renda familiar per capita</th>\n",
              "      <th>VAL_REMUNERACAO_MES_PASSADO</th>\n",
              "      <th>CRAS</th>\n",
              "      <th>REGIONAL</th>\n",
              "      <th>FAIXA_DESATUALICACAO_CADASTRAL</th>\n",
              "      <th>MES_ANO_REFERENCIA</th>\n",
              "    </tr>\n",
              "  </thead>\n",
              "  <tbody>\n",
              "    <tr>\n",
              "      <th>1</th>\n",
              "      <td>Ate seis meses</td>\n",
              "      <td>Quase nunca</td>\n",
              "      <td>04/06/1986</td>\n",
              "      <td>34</td>\n",
              "      <td>MASCULINO</td>\n",
              "      <td>NAO</td>\n",
              "      <td>SIM</td>\n",
              "      <td>Medio incompleto</td>\n",
              "      <td>Parda</td>\n",
              "      <td>Acima de 0.5 Salario Minimo</td>\n",
              "      <td>0.0</td>\n",
              "      <td>ENDERECO FORA DE AREA CRAS</td>\n",
              "      <td>NORDESTE</td>\n",
              "      <td>ate 12 Meses</td>\n",
              "      <td>01/09/2020</td>\n",
              "    </tr>\n",
              "    <tr>\n",
              "      <th>4</th>\n",
              "      <td>Entre cinco e dez anos</td>\n",
              "      <td>Todo ano</td>\n",
              "      <td>11/08/1960</td>\n",
              "      <td>60</td>\n",
              "      <td>MASCULINO</td>\n",
              "      <td>SIM</td>\n",
              "      <td>SIM</td>\n",
              "      <td>Fundamental incompleto</td>\n",
              "      <td>Parda</td>\n",
              "      <td>Ate R$89.00</td>\n",
              "      <td>0.0</td>\n",
              "      <td>ENDERECO FORA DE AREA CRAS</td>\n",
              "      <td>CENTRO SUL</td>\n",
              "      <td>ate 12 Meses</td>\n",
              "      <td>01/09/2020</td>\n",
              "    </tr>\n",
              "    <tr>\n",
              "      <th>5</th>\n",
              "      <td>Entre cinco e dez anos</td>\n",
              "      <td>Nunca</td>\n",
              "      <td>05/02/1965</td>\n",
              "      <td>55</td>\n",
              "      <td>MASCULINO</td>\n",
              "      <td>SIM</td>\n",
              "      <td>SIM</td>\n",
              "      <td>Fundamental incompleto</td>\n",
              "      <td>Parda</td>\n",
              "      <td>Ate R$89.00</td>\n",
              "      <td>0.0</td>\n",
              "      <td>ENDERECO FORA DE AREA CRAS</td>\n",
              "      <td>CENTRO SUL</td>\n",
              "      <td>ate 12 Meses</td>\n",
              "      <td>01/09/2020</td>\n",
              "    </tr>\n",
              "    <tr>\n",
              "      <th>7</th>\n",
              "      <td>Ate seis meses</td>\n",
              "      <td>Todo dia</td>\n",
              "      <td>10/05/1953</td>\n",
              "      <td>67</td>\n",
              "      <td>MASCULINO</td>\n",
              "      <td>NAO</td>\n",
              "      <td>SIM</td>\n",
              "      <td>Fundamental incompleto</td>\n",
              "      <td>Parda</td>\n",
              "      <td>Ate R$89.00</td>\n",
              "      <td>260.0</td>\n",
              "      <td>ENDERECO FORA DE AREA CRAS</td>\n",
              "      <td>CENTRO SUL</td>\n",
              "      <td>13 a 18 Meses</td>\n",
              "      <td>01/09/2020</td>\n",
              "    </tr>\n",
              "    <tr>\n",
              "      <th>9</th>\n",
              "      <td>Mais de dez anos</td>\n",
              "      <td>Nunca</td>\n",
              "      <td>25/10/1959</td>\n",
              "      <td>60</td>\n",
              "      <td>MASCULINO</td>\n",
              "      <td>SIM</td>\n",
              "      <td>SIM</td>\n",
              "      <td>Sem instrucao</td>\n",
              "      <td>Parda</td>\n",
              "      <td>Ate R$89.00</td>\n",
              "      <td>0.0</td>\n",
              "      <td>ENDERECO FORA DE AREA CRAS</td>\n",
              "      <td>LESTE</td>\n",
              "      <td>ate 12 Meses</td>\n",
              "      <td>01/09/2020</td>\n",
              "    </tr>\n",
              "  </tbody>\n",
              "</table>\n",
              "</div>\n",
              "      <button class=\"colab-df-convert\" onclick=\"convertToInteractive('df-b918d21e-8746-4688-aa97-168178914682')\"\n",
              "              title=\"Convert this dataframe to an interactive table.\"\n",
              "              style=\"display:none;\">\n",
              "        \n",
              "  <svg xmlns=\"http://www.w3.org/2000/svg\" height=\"24px\"viewBox=\"0 0 24 24\"\n",
              "       width=\"24px\">\n",
              "    <path d=\"M0 0h24v24H0V0z\" fill=\"none\"/>\n",
              "    <path d=\"M18.56 5.44l.94 2.06.94-2.06 2.06-.94-2.06-.94-.94-2.06-.94 2.06-2.06.94zm-11 1L8.5 8.5l.94-2.06 2.06-.94-2.06-.94L8.5 2.5l-.94 2.06-2.06.94zm10 10l.94 2.06.94-2.06 2.06-.94-2.06-.94-.94-2.06-.94 2.06-2.06.94z\"/><path d=\"M17.41 7.96l-1.37-1.37c-.4-.4-.92-.59-1.43-.59-.52 0-1.04.2-1.43.59L10.3 9.45l-7.72 7.72c-.78.78-.78 2.05 0 2.83L4 21.41c.39.39.9.59 1.41.59.51 0 1.02-.2 1.41-.59l7.78-7.78 2.81-2.81c.8-.78.8-2.07 0-2.86zM5.41 20L4 18.59l7.72-7.72 1.47 1.35L5.41 20z\"/>\n",
              "  </svg>\n",
              "      </button>\n",
              "      \n",
              "  <style>\n",
              "    .colab-df-container {\n",
              "      display:flex;\n",
              "      flex-wrap:wrap;\n",
              "      gap: 12px;\n",
              "    }\n",
              "\n",
              "    .colab-df-convert {\n",
              "      background-color: #E8F0FE;\n",
              "      border: none;\n",
              "      border-radius: 50%;\n",
              "      cursor: pointer;\n",
              "      display: none;\n",
              "      fill: #1967D2;\n",
              "      height: 32px;\n",
              "      padding: 0 0 0 0;\n",
              "      width: 32px;\n",
              "    }\n",
              "\n",
              "    .colab-df-convert:hover {\n",
              "      background-color: #E2EBFA;\n",
              "      box-shadow: 0px 1px 2px rgba(60, 64, 67, 0.3), 0px 1px 3px 1px rgba(60, 64, 67, 0.15);\n",
              "      fill: #174EA6;\n",
              "    }\n",
              "\n",
              "    [theme=dark] .colab-df-convert {\n",
              "      background-color: #3B4455;\n",
              "      fill: #D2E3FC;\n",
              "    }\n",
              "\n",
              "    [theme=dark] .colab-df-convert:hover {\n",
              "      background-color: #434B5C;\n",
              "      box-shadow: 0px 1px 3px 1px rgba(0, 0, 0, 0.15);\n",
              "      filter: drop-shadow(0px 1px 2px rgba(0, 0, 0, 0.3));\n",
              "      fill: #FFFFFF;\n",
              "    }\n",
              "  </style>\n",
              "\n",
              "      <script>\n",
              "        const buttonEl =\n",
              "          document.querySelector('#df-b918d21e-8746-4688-aa97-168178914682 button.colab-df-convert');\n",
              "        buttonEl.style.display =\n",
              "          google.colab.kernel.accessAllowed ? 'block' : 'none';\n",
              "\n",
              "        async function convertToInteractive(key) {\n",
              "          const element = document.querySelector('#df-b918d21e-8746-4688-aa97-168178914682');\n",
              "          const dataTable =\n",
              "            await google.colab.kernel.invokeFunction('convertToInteractive',\n",
              "                                                     [key], {});\n",
              "          if (!dataTable) return;\n",
              "\n",
              "          const docLinkHtml = 'Like what you see? Visit the ' +\n",
              "            '<a target=\"_blank\" href=https://colab.research.google.com/notebooks/data_table.ipynb>data table notebook</a>'\n",
              "            + ' to learn more about interactive tables.';\n",
              "          element.innerHTML = '';\n",
              "          dataTable['output_type'] = 'display_data';\n",
              "          await google.colab.output.renderOutput(dataTable, element);\n",
              "          const docLink = document.createElement('div');\n",
              "          docLink.innerHTML = docLinkHtml;\n",
              "          element.appendChild(docLink);\n",
              "        }\n",
              "      </script>\n",
              "    </div>\n",
              "  </div>\n",
              "  "
            ]
          },
          "metadata": {},
          "execution_count": 128
        }
      ]
    },
    {
      "cell_type": "markdown",
      "source": [
        "**Distribuição de Idade x Genero** "
      ],
      "metadata": {
        "id": "joORFmBVm0yj"
      }
    },
    {
      "cell_type": "code",
      "source": [
        "dados_masc['IDADE'].mean().round(0)"
      ],
      "metadata": {
        "colab": {
          "base_uri": "https://localhost:8080/"
        },
        "id": "PsgAdb91rBj5",
        "outputId": "ce19d7b8-962d-4fc8-988f-2ef2e191701c"
      },
      "execution_count": 129,
      "outputs": [
        {
          "output_type": "execute_result",
          "data": {
            "text/plain": [
              "42.0"
            ]
          },
          "metadata": {},
          "execution_count": 129
        }
      ]
    },
    {
      "cell_type": "code",
      "source": [
        "dados_fem['IDADE'].mean().round(0)"
      ],
      "metadata": {
        "colab": {
          "base_uri": "https://localhost:8080/"
        },
        "id": "qmz9AAJtrMhK",
        "outputId": "134d593a-f21a-4ed5-d837-5760754b0516"
      },
      "execution_count": 131,
      "outputs": [
        {
          "output_type": "execute_result",
          "data": {
            "text/plain": [
              "39.0"
            ]
          },
          "metadata": {},
          "execution_count": 131
        }
      ]
    },
    {
      "cell_type": "code",
      "source": [
        "dist_genXidade = pd.crosstab(dados_rua['SEXO'], dados_rua['IDADE']).T\n",
        "dist_genXidade "
      ],
      "metadata": {
        "id": "7dwhPvNsg_iw",
        "colab": {
          "base_uri": "https://localhost:8080/",
          "height": 455
        },
        "outputId": "45bf7849-fa84-46f7-894e-75d2611d728c"
      },
      "execution_count": 118,
      "outputs": [
        {
          "output_type": "execute_result",
          "data": {
            "text/plain": [
              "SEXO   FEMININO  MASCULINO\n",
              "IDADE                     \n",
              "1             3          0\n",
              "2             3          0\n",
              "3             1          4\n",
              "4             5          3\n",
              "5             3          0\n",
              "...         ...        ...\n",
              "77            0          4\n",
              "78            0          4\n",
              "79            0          2\n",
              "80            1          2\n",
              "83            0          3\n",
              "\n",
              "[79 rows x 2 columns]"
            ],
            "text/html": [
              "\n",
              "  <div id=\"df-60650408-a7be-4b82-8b94-51758951ce66\">\n",
              "    <div class=\"colab-df-container\">\n",
              "      <div>\n",
              "<style scoped>\n",
              "    .dataframe tbody tr th:only-of-type {\n",
              "        vertical-align: middle;\n",
              "    }\n",
              "\n",
              "    .dataframe tbody tr th {\n",
              "        vertical-align: top;\n",
              "    }\n",
              "\n",
              "    .dataframe thead th {\n",
              "        text-align: right;\n",
              "    }\n",
              "</style>\n",
              "<table border=\"1\" class=\"dataframe\">\n",
              "  <thead>\n",
              "    <tr style=\"text-align: right;\">\n",
              "      <th>SEXO</th>\n",
              "      <th>FEMININO</th>\n",
              "      <th>MASCULINO</th>\n",
              "    </tr>\n",
              "    <tr>\n",
              "      <th>IDADE</th>\n",
              "      <th></th>\n",
              "      <th></th>\n",
              "    </tr>\n",
              "  </thead>\n",
              "  <tbody>\n",
              "    <tr>\n",
              "      <th>1</th>\n",
              "      <td>3</td>\n",
              "      <td>0</td>\n",
              "    </tr>\n",
              "    <tr>\n",
              "      <th>2</th>\n",
              "      <td>3</td>\n",
              "      <td>0</td>\n",
              "    </tr>\n",
              "    <tr>\n",
              "      <th>3</th>\n",
              "      <td>1</td>\n",
              "      <td>4</td>\n",
              "    </tr>\n",
              "    <tr>\n",
              "      <th>4</th>\n",
              "      <td>5</td>\n",
              "      <td>3</td>\n",
              "    </tr>\n",
              "    <tr>\n",
              "      <th>5</th>\n",
              "      <td>3</td>\n",
              "      <td>0</td>\n",
              "    </tr>\n",
              "    <tr>\n",
              "      <th>...</th>\n",
              "      <td>...</td>\n",
              "      <td>...</td>\n",
              "    </tr>\n",
              "    <tr>\n",
              "      <th>77</th>\n",
              "      <td>0</td>\n",
              "      <td>4</td>\n",
              "    </tr>\n",
              "    <tr>\n",
              "      <th>78</th>\n",
              "      <td>0</td>\n",
              "      <td>4</td>\n",
              "    </tr>\n",
              "    <tr>\n",
              "      <th>79</th>\n",
              "      <td>0</td>\n",
              "      <td>2</td>\n",
              "    </tr>\n",
              "    <tr>\n",
              "      <th>80</th>\n",
              "      <td>1</td>\n",
              "      <td>2</td>\n",
              "    </tr>\n",
              "    <tr>\n",
              "      <th>83</th>\n",
              "      <td>0</td>\n",
              "      <td>3</td>\n",
              "    </tr>\n",
              "  </tbody>\n",
              "</table>\n",
              "<p>79 rows × 2 columns</p>\n",
              "</div>\n",
              "      <button class=\"colab-df-convert\" onclick=\"convertToInteractive('df-60650408-a7be-4b82-8b94-51758951ce66')\"\n",
              "              title=\"Convert this dataframe to an interactive table.\"\n",
              "              style=\"display:none;\">\n",
              "        \n",
              "  <svg xmlns=\"http://www.w3.org/2000/svg\" height=\"24px\"viewBox=\"0 0 24 24\"\n",
              "       width=\"24px\">\n",
              "    <path d=\"M0 0h24v24H0V0z\" fill=\"none\"/>\n",
              "    <path d=\"M18.56 5.44l.94 2.06.94-2.06 2.06-.94-2.06-.94-.94-2.06-.94 2.06-2.06.94zm-11 1L8.5 8.5l.94-2.06 2.06-.94-2.06-.94L8.5 2.5l-.94 2.06-2.06.94zm10 10l.94 2.06.94-2.06 2.06-.94-2.06-.94-.94-2.06-.94 2.06-2.06.94z\"/><path d=\"M17.41 7.96l-1.37-1.37c-.4-.4-.92-.59-1.43-.59-.52 0-1.04.2-1.43.59L10.3 9.45l-7.72 7.72c-.78.78-.78 2.05 0 2.83L4 21.41c.39.39.9.59 1.41.59.51 0 1.02-.2 1.41-.59l7.78-7.78 2.81-2.81c.8-.78.8-2.07 0-2.86zM5.41 20L4 18.59l7.72-7.72 1.47 1.35L5.41 20z\"/>\n",
              "  </svg>\n",
              "      </button>\n",
              "      \n",
              "  <style>\n",
              "    .colab-df-container {\n",
              "      display:flex;\n",
              "      flex-wrap:wrap;\n",
              "      gap: 12px;\n",
              "    }\n",
              "\n",
              "    .colab-df-convert {\n",
              "      background-color: #E8F0FE;\n",
              "      border: none;\n",
              "      border-radius: 50%;\n",
              "      cursor: pointer;\n",
              "      display: none;\n",
              "      fill: #1967D2;\n",
              "      height: 32px;\n",
              "      padding: 0 0 0 0;\n",
              "      width: 32px;\n",
              "    }\n",
              "\n",
              "    .colab-df-convert:hover {\n",
              "      background-color: #E2EBFA;\n",
              "      box-shadow: 0px 1px 2px rgba(60, 64, 67, 0.3), 0px 1px 3px 1px rgba(60, 64, 67, 0.15);\n",
              "      fill: #174EA6;\n",
              "    }\n",
              "\n",
              "    [theme=dark] .colab-df-convert {\n",
              "      background-color: #3B4455;\n",
              "      fill: #D2E3FC;\n",
              "    }\n",
              "\n",
              "    [theme=dark] .colab-df-convert:hover {\n",
              "      background-color: #434B5C;\n",
              "      box-shadow: 0px 1px 3px 1px rgba(0, 0, 0, 0.15);\n",
              "      filter: drop-shadow(0px 1px 2px rgba(0, 0, 0, 0.3));\n",
              "      fill: #FFFFFF;\n",
              "    }\n",
              "  </style>\n",
              "\n",
              "      <script>\n",
              "        const buttonEl =\n",
              "          document.querySelector('#df-60650408-a7be-4b82-8b94-51758951ce66 button.colab-df-convert');\n",
              "        buttonEl.style.display =\n",
              "          google.colab.kernel.accessAllowed ? 'block' : 'none';\n",
              "\n",
              "        async function convertToInteractive(key) {\n",
              "          const element = document.querySelector('#df-60650408-a7be-4b82-8b94-51758951ce66');\n",
              "          const dataTable =\n",
              "            await google.colab.kernel.invokeFunction('convertToInteractive',\n",
              "                                                     [key], {});\n",
              "          if (!dataTable) return;\n",
              "\n",
              "          const docLinkHtml = 'Like what you see? Visit the ' +\n",
              "            '<a target=\"_blank\" href=https://colab.research.google.com/notebooks/data_table.ipynb>data table notebook</a>'\n",
              "            + ' to learn more about interactive tables.';\n",
              "          element.innerHTML = '';\n",
              "          dataTable['output_type'] = 'display_data';\n",
              "          await google.colab.output.renderOutput(dataTable, element);\n",
              "          const docLink = document.createElement('div');\n",
              "          docLink.innerHTML = docLinkHtml;\n",
              "          element.appendChild(docLink);\n",
              "        }\n",
              "      </script>\n",
              "    </div>\n",
              "  </div>\n",
              "  "
            ]
          },
          "metadata": {},
          "execution_count": 118
        }
      ]
    },
    {
      "cell_type": "code",
      "source": [
        "dist_freq_genXidade = pd.crosstab(dados_rua['SEXO'], dados_rua['IDADE'], normalize = True).T * 100\n",
        "dist_freq_genXidade\n"
      ],
      "metadata": {
        "colab": {
          "base_uri": "https://localhost:8080/",
          "height": 455
        },
        "id": "pFwGgCgHm_dj",
        "outputId": "27b89bda-054f-4abf-d2a3-f60a2e3c4d2c"
      },
      "execution_count": 119,
      "outputs": [
        {
          "output_type": "execute_result",
          "data": {
            "text/plain": [
              "SEXO   FEMININO  MASCULINO\n",
              "IDADE                     \n",
              "1      0.033422   0.000000\n",
              "2      0.033422   0.000000\n",
              "3      0.011141   0.044563\n",
              "4      0.055704   0.033422\n",
              "5      0.033422   0.000000\n",
              "...         ...        ...\n",
              "77     0.000000   0.044563\n",
              "78     0.000000   0.044563\n",
              "79     0.000000   0.022282\n",
              "80     0.011141   0.022282\n",
              "83     0.000000   0.033422\n",
              "\n",
              "[79 rows x 2 columns]"
            ],
            "text/html": [
              "\n",
              "  <div id=\"df-83a7c8f8-507d-4a56-800d-16778b56ec99\">\n",
              "    <div class=\"colab-df-container\">\n",
              "      <div>\n",
              "<style scoped>\n",
              "    .dataframe tbody tr th:only-of-type {\n",
              "        vertical-align: middle;\n",
              "    }\n",
              "\n",
              "    .dataframe tbody tr th {\n",
              "        vertical-align: top;\n",
              "    }\n",
              "\n",
              "    .dataframe thead th {\n",
              "        text-align: right;\n",
              "    }\n",
              "</style>\n",
              "<table border=\"1\" class=\"dataframe\">\n",
              "  <thead>\n",
              "    <tr style=\"text-align: right;\">\n",
              "      <th>SEXO</th>\n",
              "      <th>FEMININO</th>\n",
              "      <th>MASCULINO</th>\n",
              "    </tr>\n",
              "    <tr>\n",
              "      <th>IDADE</th>\n",
              "      <th></th>\n",
              "      <th></th>\n",
              "    </tr>\n",
              "  </thead>\n",
              "  <tbody>\n",
              "    <tr>\n",
              "      <th>1</th>\n",
              "      <td>0.033422</td>\n",
              "      <td>0.000000</td>\n",
              "    </tr>\n",
              "    <tr>\n",
              "      <th>2</th>\n",
              "      <td>0.033422</td>\n",
              "      <td>0.000000</td>\n",
              "    </tr>\n",
              "    <tr>\n",
              "      <th>3</th>\n",
              "      <td>0.011141</td>\n",
              "      <td>0.044563</td>\n",
              "    </tr>\n",
              "    <tr>\n",
              "      <th>4</th>\n",
              "      <td>0.055704</td>\n",
              "      <td>0.033422</td>\n",
              "    </tr>\n",
              "    <tr>\n",
              "      <th>5</th>\n",
              "      <td>0.033422</td>\n",
              "      <td>0.000000</td>\n",
              "    </tr>\n",
              "    <tr>\n",
              "      <th>...</th>\n",
              "      <td>...</td>\n",
              "      <td>...</td>\n",
              "    </tr>\n",
              "    <tr>\n",
              "      <th>77</th>\n",
              "      <td>0.000000</td>\n",
              "      <td>0.044563</td>\n",
              "    </tr>\n",
              "    <tr>\n",
              "      <th>78</th>\n",
              "      <td>0.000000</td>\n",
              "      <td>0.044563</td>\n",
              "    </tr>\n",
              "    <tr>\n",
              "      <th>79</th>\n",
              "      <td>0.000000</td>\n",
              "      <td>0.022282</td>\n",
              "    </tr>\n",
              "    <tr>\n",
              "      <th>80</th>\n",
              "      <td>0.011141</td>\n",
              "      <td>0.022282</td>\n",
              "    </tr>\n",
              "    <tr>\n",
              "      <th>83</th>\n",
              "      <td>0.000000</td>\n",
              "      <td>0.033422</td>\n",
              "    </tr>\n",
              "  </tbody>\n",
              "</table>\n",
              "<p>79 rows × 2 columns</p>\n",
              "</div>\n",
              "      <button class=\"colab-df-convert\" onclick=\"convertToInteractive('df-83a7c8f8-507d-4a56-800d-16778b56ec99')\"\n",
              "              title=\"Convert this dataframe to an interactive table.\"\n",
              "              style=\"display:none;\">\n",
              "        \n",
              "  <svg xmlns=\"http://www.w3.org/2000/svg\" height=\"24px\"viewBox=\"0 0 24 24\"\n",
              "       width=\"24px\">\n",
              "    <path d=\"M0 0h24v24H0V0z\" fill=\"none\"/>\n",
              "    <path d=\"M18.56 5.44l.94 2.06.94-2.06 2.06-.94-2.06-.94-.94-2.06-.94 2.06-2.06.94zm-11 1L8.5 8.5l.94-2.06 2.06-.94-2.06-.94L8.5 2.5l-.94 2.06-2.06.94zm10 10l.94 2.06.94-2.06 2.06-.94-2.06-.94-.94-2.06-.94 2.06-2.06.94z\"/><path d=\"M17.41 7.96l-1.37-1.37c-.4-.4-.92-.59-1.43-.59-.52 0-1.04.2-1.43.59L10.3 9.45l-7.72 7.72c-.78.78-.78 2.05 0 2.83L4 21.41c.39.39.9.59 1.41.59.51 0 1.02-.2 1.41-.59l7.78-7.78 2.81-2.81c.8-.78.8-2.07 0-2.86zM5.41 20L4 18.59l7.72-7.72 1.47 1.35L5.41 20z\"/>\n",
              "  </svg>\n",
              "      </button>\n",
              "      \n",
              "  <style>\n",
              "    .colab-df-container {\n",
              "      display:flex;\n",
              "      flex-wrap:wrap;\n",
              "      gap: 12px;\n",
              "    }\n",
              "\n",
              "    .colab-df-convert {\n",
              "      background-color: #E8F0FE;\n",
              "      border: none;\n",
              "      border-radius: 50%;\n",
              "      cursor: pointer;\n",
              "      display: none;\n",
              "      fill: #1967D2;\n",
              "      height: 32px;\n",
              "      padding: 0 0 0 0;\n",
              "      width: 32px;\n",
              "    }\n",
              "\n",
              "    .colab-df-convert:hover {\n",
              "      background-color: #E2EBFA;\n",
              "      box-shadow: 0px 1px 2px rgba(60, 64, 67, 0.3), 0px 1px 3px 1px rgba(60, 64, 67, 0.15);\n",
              "      fill: #174EA6;\n",
              "    }\n",
              "\n",
              "    [theme=dark] .colab-df-convert {\n",
              "      background-color: #3B4455;\n",
              "      fill: #D2E3FC;\n",
              "    }\n",
              "\n",
              "    [theme=dark] .colab-df-convert:hover {\n",
              "      background-color: #434B5C;\n",
              "      box-shadow: 0px 1px 3px 1px rgba(0, 0, 0, 0.15);\n",
              "      filter: drop-shadow(0px 1px 2px rgba(0, 0, 0, 0.3));\n",
              "      fill: #FFFFFF;\n",
              "    }\n",
              "  </style>\n",
              "\n",
              "      <script>\n",
              "        const buttonEl =\n",
              "          document.querySelector('#df-83a7c8f8-507d-4a56-800d-16778b56ec99 button.colab-df-convert');\n",
              "        buttonEl.style.display =\n",
              "          google.colab.kernel.accessAllowed ? 'block' : 'none';\n",
              "\n",
              "        async function convertToInteractive(key) {\n",
              "          const element = document.querySelector('#df-83a7c8f8-507d-4a56-800d-16778b56ec99');\n",
              "          const dataTable =\n",
              "            await google.colab.kernel.invokeFunction('convertToInteractive',\n",
              "                                                     [key], {});\n",
              "          if (!dataTable) return;\n",
              "\n",
              "          const docLinkHtml = 'Like what you see? Visit the ' +\n",
              "            '<a target=\"_blank\" href=https://colab.research.google.com/notebooks/data_table.ipynb>data table notebook</a>'\n",
              "            + ' to learn more about interactive tables.';\n",
              "          element.innerHTML = '';\n",
              "          dataTable['output_type'] = 'display_data';\n",
              "          await google.colab.output.renderOutput(dataTable, element);\n",
              "          const docLink = document.createElement('div');\n",
              "          docLink.innerHTML = docLinkHtml;\n",
              "          element.appendChild(docLink);\n",
              "        }\n",
              "      </script>\n",
              "    </div>\n",
              "  </div>\n",
              "  "
            ]
          },
          "metadata": {},
          "execution_count": 119
        }
      ]
    },
    {
      "cell_type": "code",
      "source": [
        "sns.boxplot(x='IDADE', y='SEXO', data= dados_rua)"
      ],
      "metadata": {
        "colab": {
          "base_uri": "https://localhost:8080/",
          "height": 296
        },
        "id": "fNT6Q5BvnlpU",
        "outputId": "4b524515-e5a3-4439-ce13-2bd25f311480"
      },
      "execution_count": 130,
      "outputs": [
        {
          "output_type": "execute_result",
          "data": {
            "text/plain": [
              "<matplotlib.axes._subplots.AxesSubplot at 0x7f1148590050>"
            ]
          },
          "metadata": {},
          "execution_count": 130
        },
        {
          "output_type": "display_data",
          "data": {
            "text/plain": [
              "<Figure size 432x288 with 1 Axes>"
            ],
            "image/png": "[encoded data removed]"
          },
          "metadata": {}
        }
      ]
    },
    {
      "cell_type": "code",
      "source": [],
      "metadata": {
        "id": "ZwCas2JHqj8S"
      },
      "execution_count": null,
      "outputs": []
    }
  ]
}